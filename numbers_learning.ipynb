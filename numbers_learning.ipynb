{
  "nbformat": 4,
  "nbformat_minor": 0,
  "metadata": {
    "colab": {
      "provenance": [],
      "authorship_tag": "ABX9TyMUxA7/EIHV5rCX4g0QQQeW",
      "include_colab_link": true
    },
    "kernelspec": {
      "name": "python3",
      "display_name": "Python 3"
    },
    "language_info": {
      "name": "python"
    }
  },
  "cells": [
    {
      "cell_type": "markdown",
      "metadata": {
        "id": "view-in-github",
        "colab_type": "text"
      },
      "source": [
        "<a href=\"https://colab.research.google.com/github/MaryN333/machine_learning/blob/main/numbers_learning.ipynb\" target=\"_parent\"><img src=\"https://colab.research.google.com/assets/colab-badge.svg\" alt=\"Open In Colab\"/></a>"
      ]
    },
    {
      "cell_type": "code",
      "execution_count": null,
      "metadata": {
        "id": "wjRGqQM-rGwk"
      },
      "outputs": [],
      "source": [
        "# https://skillbox.ru/media/code/biblioteka-tensorflow-pishem-neyroset-i-izuchaem-printsipy-mashinnogo-obucheniya/\n",
        "# импортировать библиотеку в Google Colab\n",
        "import tensorflow as tf\n",
        "# NumPy — это библиотека для эффективной работы с массивами чисел\n",
        "import numpy as np\n",
        "# Keras, встроенная в Tensorflow библиотека, которая умеет обучать нейросети.\n",
        "from tensorflow import keras\n",
        "\n",
        "# создадим самую простую модель\n",
        "model = tf.keras.Sequential([keras.layers.Dense(units=1, input_shape=[1])])\n",
        "# Sequential — это тип нейросети, означающий, что процесс обучения будет последовательным.\n",
        "# Это стандартный процесс обучения для простых нейросетей: в нём она сначала делает предсказания,\n",
        "# затем тестирует их и сравнивает с результатом, а в конце — корректирует ошибки.\n",
        "\n",
        "# keras.layers.Dense — указывает на то, что мы хотим создать слой в нашей модели. Слой — это место,\n",
        "# куда мы будем складывать нейроны, которые запоминают информацию об ошибках и которые отвечают за\n",
        "# «умственные способности» нейросети. Dense — это тип слоя, который использует специальные алгоритмы для обучения.\n",
        "\n",
        "# units=1 означает, что модель состоит из одного нейрона, который будет запоминать информацию о предыдущих предположениях;\n",
        "# input_shape=[1] говорит о том, что на вход будет подаваться одно число, по которому нейросеть будет строить зависимости двух рядов чисел: X и Y.\n",
        "\n",
        "# Модель мы создали, теперь давайте её скомпилируем\n",
        "model.compile(optimizer='sgd', loss='mean_squared_error')\n",
        "\n",
        "xs = np.array([-1.0, 0.0, 1.0, 2.0, 3.0, 4.0], dtype=float)\n",
        "ys = np.array([-4.0, 1.0, 6.0, 11.0, 16.0, 21.0], dtype=float)\n",
        "\n",
        "# Массивы передаем модели на обучение, Функция fit как раз занимается обучением\n",
        "model.fit(xs, ys, epochs=500)\n",
        "\n",
        "\n",
        "\n"
      ]
    },
    {
      "cell_type": "code",
      "source": [
        "print(model.predict([10]))\n",
        "print(50.989418-51)"
      ],
      "metadata": {
        "colab": {
          "base_uri": "https://localhost:8080/"
        },
        "id": "JKJYJJMLw8as",
        "outputId": "6f83a9ae-f3d9-441d-9ad2-91c46e7afbed"
      },
      "execution_count": null,
      "outputs": [
        {
          "output_type": "stream",
          "name": "stdout",
          "text": [
            "1/1 [==============================] - 0s 89ms/step\n",
            "[[50.989418]]\n",
            "-0.010581999999999425\n"
          ]
        }
      ]
    }
  ]
}